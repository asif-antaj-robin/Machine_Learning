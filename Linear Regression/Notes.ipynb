{
 "cells": [
  {
   "cell_type": "code",
   "execution_count": 1,
   "id": "1ddae65b-0cee-47cc-bc8a-e333d56ca036",
   "metadata": {},
   "outputs": [],
   "source": [
    "import pandas as pd\n",
    "import numpy as np\n",
    "from sklearn.linear_model import LinearRegression"
   ]
  },
  {
   "cell_type": "code",
   "execution_count": 2,
   "id": "e1cdeb4f-0d85-42f2-8e8b-294f0dc7dda0",
   "metadata": {},
   "outputs": [],
   "source": [
    "x = np.array([1, 2, 3, 4])\n",
    "y = np.array([2, 3, 5, 4])"
   ]
  },
  {
   "cell_type": "code",
   "execution_count": null,
   "id": "fa0862d1-fe5a-48ea-84f3-27555ab1fb11",
   "metadata": {},
   "outputs": [],
   "source": []
  },
  {
   "cell_type": "code",
   "execution_count": 3,
   "id": "8aef7fd0-60c7-41a9-bf7d-c127a92b6618",
   "metadata": {},
   "outputs": [
    {
     "data": {
      "text/html": [
       "<div>\n",
       "<style scoped>\n",
       "    .dataframe tbody tr th:only-of-type {\n",
       "        vertical-align: middle;\n",
       "    }\n",
       "\n",
       "    .dataframe tbody tr th {\n",
       "        vertical-align: top;\n",
       "    }\n",
       "\n",
       "    .dataframe thead th {\n",
       "        text-align: right;\n",
       "    }\n",
       "</style>\n",
       "<table border=\"1\" class=\"dataframe\">\n",
       "  <thead>\n",
       "    <tr style=\"text-align: right;\">\n",
       "      <th></th>\n",
       "      <th>x</th>\n",
       "      <th>y</th>\n",
       "    </tr>\n",
       "  </thead>\n",
       "  <tbody>\n",
       "    <tr>\n",
       "      <th>0</th>\n",
       "      <td>1</td>\n",
       "      <td>2</td>\n",
       "    </tr>\n",
       "    <tr>\n",
       "      <th>1</th>\n",
       "      <td>2</td>\n",
       "      <td>3</td>\n",
       "    </tr>\n",
       "    <tr>\n",
       "      <th>2</th>\n",
       "      <td>3</td>\n",
       "      <td>5</td>\n",
       "    </tr>\n",
       "    <tr>\n",
       "      <th>3</th>\n",
       "      <td>4</td>\n",
       "      <td>4</td>\n",
       "    </tr>\n",
       "  </tbody>\n",
       "</table>\n",
       "</div>"
      ],
      "text/plain": [
       "   x  y\n",
       "0  1  2\n",
       "1  2  3\n",
       "2  3  5\n",
       "3  4  4"
      ]
     },
     "execution_count": 3,
     "metadata": {},
     "output_type": "execute_result"
    }
   ],
   "source": [
    "#Create DataFrame\n",
    "df = pd.DataFrame({'x': x, 'y': y})\n",
    "df"
   ]
  },
  {
   "cell_type": "code",
   "execution_count": 4,
   "id": "396b2048-f1b3-464a-af5c-b447ad46a043",
   "metadata": {},
   "outputs": [],
   "source": [
    "X = df[['x']]\n",
    "y = df['y']"
   ]
  },
  {
   "cell_type": "code",
   "execution_count": 5,
   "id": "78f7d015-6e34-44d2-96bd-30e8a6e1b89d",
   "metadata": {},
   "outputs": [
    {
     "name": "stdout",
     "output_type": "stream",
     "text": [
      "slope_sklearn =  [0.8] \n",
      "intercept_sklearn =  1.5000000000000007\n"
     ]
    }
   ],
   "source": [
    "#Using sklearn to perform linear regression\n",
    "\n",
    "model = LinearRegression().fit(X, y) #training model\n",
    "\n",
    "slope_sklearn = model.coef_\n",
    "intercept_sklearn = model.intercept_\n",
    "\n",
    "print(\"slope_sklearn = \", slope_sklearn, \"\\nintercept_sklearn = \", intercept_sklearn )"
   ]
  },
  {
   "cell_type": "code",
   "execution_count": 6,
   "id": "99288a03-c6aa-4bfa-b3df-dfd9e39a33bf",
   "metadata": {},
   "outputs": [
    {
     "name": "stdout",
     "output_type": "stream",
     "text": [
      "slope_formula1 =  0.8\n",
      "intercept_formula1 =  1.5\n"
     ]
    }
   ],
   "source": [
    "#Manual calculations using Formula 1\n",
    "\n",
    "N = len(x) \n",
    "sum_x = np.sum(x) \n",
    "sum_y = np.sum(y) \n",
    "sum_xy = np.sum(x * y) #MULTIPLICATION\n",
    "sum_x2 = np.sum(x**2) #SQUARE\n",
    "\n",
    "slope_formula1 = (N * sum_xy - sum_x * sum_y) / (N * sum_x2 - sum_x**2)\n",
    "intercept_formula1 = (sum_y - slope_formula1 * sum_x) / N\n",
    "\n",
    "print('slope_formula1 = ', slope_formula1)\n",
    "print('intercept_formula1 = ', intercept_formula1)"
   ]
  },
  {
   "cell_type": "code",
   "execution_count": 7,
   "id": "61a5b5c5-6ab4-40c0-b144-c8a20059a9a4",
   "metadata": {},
   "outputs": [
    {
     "name": "stdout",
     "output_type": "stream",
     "text": [
      "slope_formula2 0.8\n",
      "intercept_formula2 1.5\n"
     ]
    }
   ],
   "source": [
    "#Manual calculations using Formula 2\n",
    "\n",
    "mean_x = np.mean(x)\n",
    "mean_y = np.mean(y)\n",
    "slope_formula2 = np.sum((x - mean_x) * (y - mean_y)) / np.sum((x - mean_x)**2)\n",
    "intercept_formula2 = mean_y - slope_formula2 * mean_x\n",
    "\n",
    "print(\"slope_formula2\", slope_formula2)\n",
    "print(\"intercept_formula2\", intercept_formula2)"
   ]
  },
  {
   "cell_type": "code",
   "execution_count": 8,
   "id": "94f7a657-04ea-4653-bdc8-892d19cbe2f4",
   "metadata": {},
   "outputs": [
    {
     "data": {
      "text/plain": [
       "(array([0.8]), np.float64(1.5000000000000007))"
      ]
     },
     "execution_count": 8,
     "metadata": {},
     "output_type": "execute_result"
    }
   ],
   "source": [
    " #Let's Compare the Results\n",
    "(slope_sklearn, intercept_sklearn) #sklearn"
   ]
  },
  {
   "cell_type": "code",
   "execution_count": 9,
   "id": "1c0d018e-86f2-4552-a963-cb387bb5025a",
   "metadata": {},
   "outputs": [
    {
     "data": {
      "text/plain": [
       "(np.float64(0.8), np.float64(1.5))"
      ]
     },
     "execution_count": 9,
     "metadata": {},
     "output_type": "execute_result"
    }
   ],
   "source": [
    "(slope_formula1, intercept_formula1) #formula 01"
   ]
  },
  {
   "cell_type": "code",
   "execution_count": 10,
   "id": "ae49cfee-1d73-4590-91db-984d751a87c8",
   "metadata": {},
   "outputs": [
    {
     "data": {
      "text/plain": [
       "(np.float64(0.8), np.float64(1.5))"
      ]
     },
     "execution_count": 10,
     "metadata": {},
     "output_type": "execute_result"
    }
   ],
   "source": [
    "#formula 02\n",
    "(slope_formula2, intercept_formula2)"
   ]
  },
  {
   "cell_type": "code",
   "execution_count": 11,
   "id": "d3be01d5-122a-439b-b556-c88916e15e32",
   "metadata": {},
   "outputs": [
    {
     "data": {
      "text/plain": [
       "array([2.3, 3.1, 3.9, 4.7])"
      ]
     },
     "execution_count": 11,
     "metadata": {},
     "output_type": "execute_result"
    }
   ],
   "source": [
    "#Residual Calculation\n",
    "model.predict(X)   #df['y_hat'] = model.predict(X)"
   ]
  },
  {
   "cell_type": "code",
   "execution_count": 12,
   "id": "be8b31ac-6cee-47b3-b9a1-8850210ef7fc",
   "metadata": {},
   "outputs": [],
   "source": [
    "#Create the example dataset\n",
    "data = {\n",
    "    'x': [1, 2, 3, 4],\n",
    "    'y': [2, 3, 5, 4],\n",
    "    'y_hat': [2.3, 3.1, 3.9, 4.7] # Predicted Value of y\n",
    "}"
   ]
  },
  {
   "cell_type": "code",
   "execution_count": 13,
   "id": "95bc8bcf-7645-4079-8876-3c0c300fa570",
   "metadata": {},
   "outputs": [
    {
     "data": {
      "text/html": [
       "<div>\n",
       "<style scoped>\n",
       "    .dataframe tbody tr th:only-of-type {\n",
       "        vertical-align: middle;\n",
       "    }\n",
       "\n",
       "    .dataframe tbody tr th {\n",
       "        vertical-align: top;\n",
       "    }\n",
       "\n",
       "    .dataframe thead th {\n",
       "        text-align: right;\n",
       "    }\n",
       "</style>\n",
       "<table border=\"1\" class=\"dataframe\">\n",
       "  <thead>\n",
       "    <tr style=\"text-align: right;\">\n",
       "      <th></th>\n",
       "      <th>x</th>\n",
       "      <th>y</th>\n",
       "      <th>y_hat</th>\n",
       "    </tr>\n",
       "  </thead>\n",
       "  <tbody>\n",
       "    <tr>\n",
       "      <th>0</th>\n",
       "      <td>1</td>\n",
       "      <td>2</td>\n",
       "      <td>2.3</td>\n",
       "    </tr>\n",
       "    <tr>\n",
       "      <th>1</th>\n",
       "      <td>2</td>\n",
       "      <td>3</td>\n",
       "      <td>3.1</td>\n",
       "    </tr>\n",
       "    <tr>\n",
       "      <th>2</th>\n",
       "      <td>3</td>\n",
       "      <td>5</td>\n",
       "      <td>3.9</td>\n",
       "    </tr>\n",
       "    <tr>\n",
       "      <th>3</th>\n",
       "      <td>4</td>\n",
       "      <td>4</td>\n",
       "      <td>4.7</td>\n",
       "    </tr>\n",
       "  </tbody>\n",
       "</table>\n",
       "</div>"
      ],
      "text/plain": [
       "   x  y  y_hat\n",
       "0  1  2    2.3\n",
       "1  2  3    3.1\n",
       "2  3  5    3.9\n",
       "3  4  4    4.7"
      ]
     },
     "execution_count": 13,
     "metadata": {},
     "output_type": "execute_result"
    }
   ],
   "source": [
    "#Create a DataFrame\n",
    "df = pd.DataFrame(data)\n",
    "df"
   ]
  },
  {
   "cell_type": "code",
   "execution_count": 14,
   "id": "8dba3c18-66d7-4372-ba47-0cc5ee9a61aa",
   "metadata": {},
   "outputs": [
    {
     "data": {
      "text/html": [
       "<div>\n",
       "<style scoped>\n",
       "    .dataframe tbody tr th:only-of-type {\n",
       "        vertical-align: middle;\n",
       "    }\n",
       "\n",
       "    .dataframe tbody tr th {\n",
       "        vertical-align: top;\n",
       "    }\n",
       "\n",
       "    .dataframe thead th {\n",
       "        text-align: right;\n",
       "    }\n",
       "</style>\n",
       "<table border=\"1\" class=\"dataframe\">\n",
       "  <thead>\n",
       "    <tr style=\"text-align: right;\">\n",
       "      <th></th>\n",
       "      <th>x</th>\n",
       "      <th>y</th>\n",
       "      <th>y_hat</th>\n",
       "      <th>Residuals</th>\n",
       "    </tr>\n",
       "  </thead>\n",
       "  <tbody>\n",
       "    <tr>\n",
       "      <th>0</th>\n",
       "      <td>1</td>\n",
       "      <td>2</td>\n",
       "      <td>2.3</td>\n",
       "      <td>-0.3</td>\n",
       "    </tr>\n",
       "    <tr>\n",
       "      <th>1</th>\n",
       "      <td>2</td>\n",
       "      <td>3</td>\n",
       "      <td>3.1</td>\n",
       "      <td>-0.1</td>\n",
       "    </tr>\n",
       "    <tr>\n",
       "      <th>2</th>\n",
       "      <td>3</td>\n",
       "      <td>5</td>\n",
       "      <td>3.9</td>\n",
       "      <td>1.1</td>\n",
       "    </tr>\n",
       "    <tr>\n",
       "      <th>3</th>\n",
       "      <td>4</td>\n",
       "      <td>4</td>\n",
       "      <td>4.7</td>\n",
       "      <td>-0.7</td>\n",
       "    </tr>\n",
       "  </tbody>\n",
       "</table>\n",
       "</div>"
      ],
      "text/plain": [
       "   x  y  y_hat  Residuals\n",
       "0  1  2    2.3       -0.3\n",
       "1  2  3    3.1       -0.1\n",
       "2  3  5    3.9        1.1\n",
       "3  4  4    4.7       -0.7"
      ]
     },
     "execution_count": 14,
     "metadata": {},
     "output_type": "execute_result"
    }
   ],
   "source": [
    "# Calculate residuals\n",
    "#adding new column in df named Residuals\n",
    "df['Residuals'] = df['y'] - df['y_hat']\n",
    "df"
   ]
  },
  {
   "cell_type": "code",
   "execution_count": 15,
   "id": "31bcbc4d-06ff-49ea-9f7d-b781e4e8f240",
   "metadata": {},
   "outputs": [
    {
     "data": {
      "text/plain": [
       "np.float64(2.2)"
      ]
     },
     "execution_count": 15,
     "metadata": {},
     "output_type": "execute_result"
    }
   ],
   "source": [
    "# Calculate L1 Loss\n",
    "L1_loss = df['Residuals'].abs().sum()\n",
    "L1_loss"
   ]
  },
  {
   "cell_type": "code",
   "execution_count": 16,
   "id": "b41894de-2e3a-4efe-ba17-c046c5a75743",
   "metadata": {},
   "outputs": [
    {
     "data": {
      "text/plain": [
       "np.float64(1.8000000000000003)"
      ]
     },
     "execution_count": 16,
     "metadata": {},
     "output_type": "execute_result"
    }
   ],
   "source": [
    "# Calculate L2 Loss\n",
    "L2_loss = (df['Residuals']**2).sum()\n",
    "L2_loss"
   ]
  },
  {
   "cell_type": "code",
   "execution_count": 17,
   "id": "861ea633-f05b-48ee-8d59-da33b3b835e6",
   "metadata": {},
   "outputs": [
    {
     "name": "stdout",
     "output_type": "stream",
     "text": [
      "L1 Loss = 2.2, L2 Loss = 1.8000000000000003\n",
      "L1 Loss = 2.20, L2 Loss = 1.80\n"
     ]
    }
   ],
   "source": [
    "#Display the DataFrame with the residuals and the calculated losses\n",
    "\n",
    "print(f\"L1 Loss = {L1_loss}, L2 Loss = {L2_loss}\")\n",
    "print(f\"L1 Loss = {L1_loss:.2f}, L2 Loss = {L2_loss:.2f}\") #2 DIGIT after dot."
   ]
  },
  {
   "cell_type": "code",
   "execution_count": null,
   "id": "df1dd7fe-bdbc-4363-a55c-89dd002f712a",
   "metadata": {},
   "outputs": [],
   "source": []
  }
 ],
 "metadata": {
  "kernelspec": {
   "display_name": "Python 3 (ipykernel)",
   "language": "python",
   "name": "python3"
  },
  "language_info": {
   "codemirror_mode": {
    "name": "ipython",
    "version": 3
   },
   "file_extension": ".py",
   "mimetype": "text/x-python",
   "name": "python",
   "nbconvert_exporter": "python",
   "pygments_lexer": "ipython3",
   "version": "3.13.1"
  }
 },
 "nbformat": 4,
 "nbformat_minor": 5
}
